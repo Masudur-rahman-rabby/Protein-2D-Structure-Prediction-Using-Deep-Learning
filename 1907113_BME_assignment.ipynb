{
  "nbformat": 4,
  "nbformat_minor": 0,
  "metadata": {
    "colab": {
      "provenance": []
    },
    "kernelspec": {
      "name": "python3",
      "display_name": "Python 3"
    },
    "language_info": {
      "name": "python"
    }
  },
  "cells": [
    {
      "cell_type": "code",
      "execution_count": 1,
      "metadata": {
        "colab": {
          "base_uri": "https://localhost:8080/"
        },
        "id": "001eIpdt2pMj",
        "outputId": "f15ad599-dff7-425b-a554-185f706ef475"
      },
      "outputs": [
        {
          "output_type": "stream",
          "name": "stdout",
          "text": [
            "\u001b[?25l   \u001b[90m━━━━━━━━━━━━━━━━━━━━━━━━━━━━━━━━━━━━━━━━\u001b[0m \u001b[32m0.0/3.3 MB\u001b[0m \u001b[31m?\u001b[0m eta \u001b[36m-:--:--\u001b[0m\r\u001b[2K   \u001b[91m━━━\u001b[0m\u001b[91m╸\u001b[0m\u001b[90m━━━━━━━━━━━━━━━━━━━━━━━━━━━━━━━━━━━━\u001b[0m \u001b[32m0.3/3.3 MB\u001b[0m \u001b[31m8.6 MB/s\u001b[0m eta \u001b[36m0:00:01\u001b[0m\r\u001b[2K   \u001b[91m━━━━━━━━━━━━━━━━━━━━━━━━━━━━━━━\u001b[0m\u001b[91m╸\u001b[0m\u001b[90m━━━━━━━━\u001b[0m \u001b[32m2.6/3.3 MB\u001b[0m \u001b[31m37.7 MB/s\u001b[0m eta \u001b[36m0:00:01\u001b[0m\r\u001b[2K   \u001b[90m━━━━━━━━━━━━━━━━━━━━━━━━━━━━━━━━━━━━━━━━\u001b[0m \u001b[32m3.3/3.3 MB\u001b[0m \u001b[31m31.6 MB/s\u001b[0m eta \u001b[36m0:00:00\u001b[0m\n",
            "\u001b[?25hTensorFlow: 2.19.0\n"
          ]
        }
      ],
      "source": [
        "!pip -q install biopython scikit-learn imageio\n",
        "\n",
        "import os, io, gzip, math, shutil, glob, json\n",
        "import numpy as np\n",
        "import matplotlib.pyplot as plt\n",
        "from sklearn.model_selection import train_test_split\n",
        "from sklearn.metrics import classification_report, confusion_matrix\n",
        "import imageio\n",
        "\n",
        "import tensorflow as tf\n",
        "from tensorflow.keras import layers, models, callbacks\n",
        "\n",
        "print('TensorFlow:', tf.__version__)\n",
        "\n",
        "# Reproducibility\n",
        "SEED = 42\n",
        "np.random.seed(SEED)\n",
        "tf.random.set_seed(SEED)\n",
        "\n",
        "# Output dirs\n",
        "os.makedirs('outputs/figures', exist_ok=True)\n",
        "os.makedirs('outputs/gifs', exist_ok=True)\n",
        "os.makedirs('data', exist_ok=True)"
      ]
    },
    {
      "cell_type": "code",
      "source": [
        "from Bio import Entrez, SeqIO\n",
        "\n",
        "# 👉 Replace with your email to comply with NCBI usage policy\n",
        "Entrez.email = \"masudurrabby8@gmail.com\"  # REQUIRED by NCBI\n",
        "\n",
        "# Example queries for diversity by length and keywords\n",
        "queries = [\n",
        "    \"kinase[Title] AND 100:200[SLEN]\",\n",
        "    \"transcription factor[Title] AND 50:120[SLEN]\",\n",
        "    \"membrane protein[Title] AND 200:400[SLEN]\",\n",
        "    \"enzyme[Title] AND 80:150[SLEN]\",\n",
        "]\n",
        "\n",
        "all_records = []\n",
        "for q in queries:\n",
        "    handle = Entrez.esearch(db=\"protein\", term=q, retmax=50)\n",
        "    result = Entrez.read(handle)\n",
        "    ids = result.get('IdList', [])\n",
        "    if not ids:\n",
        "        continue\n",
        "    fetch = Entrez.efetch(db=\"protein\", id=ids, rettype=\"fasta\", retmode=\"text\")\n",
        "    records = list(SeqIO.parse(fetch, \"fasta\"))\n",
        "    all_records.extend(records)\n",
        "\n",
        "# Deduplicate by ID\n",
        "uniq = {r.id: r for r in all_records}\n",
        "\n",
        "fasta_path = 'data/ncbi_sequences.fasta'\n",
        "SeqIO.write(list(uniq.values()), fasta_path, \"fasta\")\n",
        "print(f\"Saved {len(uniq)} sequences to {fasta_path}\")"
      ],
      "metadata": {
        "colab": {
          "base_uri": "https://localhost:8080/"
        },
        "id": "f0HeejF623rS",
        "outputId": "a5b1977a-9e2e-4e9c-dcd5-be85163b6a27"
      },
      "execution_count": 2,
      "outputs": [
        {
          "output_type": "stream",
          "name": "stdout",
          "text": [
            "Saved 200 sequences to data/ncbi_sequences.fasta\n"
          ]
        }
      ]
    },
    {
      "cell_type": "code",
      "source": [
        "import urllib.request\n",
        "\n",
        "Z_CULL = \"https://zenodo.org/records/7764556/files/cullpdb+profile_5926_filtered.npy.gz?download=1\"\n",
        "Z_CB513 = \"https://zenodo.org/records/7764556/files/cb513+profile_split1.npy.gz?download=1\"\n",
        "\n",
        "paths = {\n",
        "    'cull_filtered': 'data/cullpdb+profile_5926_filtered.npy.gz',\n",
        "    'cb513': 'data/cb513+profile_split1.npy.gz',\n",
        "}\n",
        "\n",
        "for url, dest in [(Z_CULL, paths['cull_filtered']), (Z_CB513, paths['cb513'])]:\n",
        "    if not os.path.exists(dest):\n",
        "        print('Downloading', url)\n",
        "        urllib.request.urlretrieve(url, dest)\n",
        "    else:\n",
        "        print('Already exists:', dest)\n",
        "\n",
        "for k,v in paths.items():\n",
        "    print(k, os.path.getsize(v)/1e9, 'GB')"
      ],
      "metadata": {
        "colab": {
          "base_uri": "https://localhost:8080/"
        },
        "id": "sdnBVmd13N2H",
        "outputId": "8edbf7cd-66fe-4185-acae-390eb5f92752"
      },
      "execution_count": 3,
      "outputs": [
        {
          "output_type": "stream",
          "name": "stdout",
          "text": [
            "Downloading https://zenodo.org/records/7764556/files/cullpdb+profile_5926_filtered.npy.gz?download=1\n",
            "Downloading https://zenodo.org/records/7764556/files/cb513+profile_split1.npy.gz?download=1\n",
            "cull_filtered 1.71250808 GB\n",
            "cb513 0.16406888 GB\n"
          ]
        }
      ]
    },
    {
      "cell_type": "code",
      "source": [
        "\n",
        "\n",
        "import numpy as np\n",
        "\n",
        "MAXLEN = 700  # fixed sequence length\n",
        "\n",
        "def load_array(path):\n",
        "    \"\"\"\n",
        "    Load .npy file safely (even if created with Python 2).\n",
        "    \"\"\"\n",
        "    arr = np.load(path, allow_pickle=True)\n",
        "    return arr\n",
        "\n",
        "def pad_or_truncate(arr, maxlen=MAXLEN):\n",
        "    \"\"\"\n",
        "    Ensure every protein sequence has fixed length (maxlen).\n",
        "    If shorter, pad with zeros. If longer, truncate.\n",
        "    \"\"\"\n",
        "    num_samples = arr.shape[0]\n",
        "    num_features = arr.shape[1] if arr.ndim > 1 else 1\n",
        "\n",
        "    processed = []\n",
        "    for i in range(num_samples):\n",
        "        seq = arr[i]\n",
        "        # Ensure seq is 2D (length × features)\n",
        "        if seq.ndim == 1:\n",
        "            seq = seq.reshape(-1, 1)\n",
        "        if seq.shape[0] > maxlen:   # truncate\n",
        "            seq = seq[:maxlen, :]\n",
        "        elif seq.shape[0] < maxlen: # pad\n",
        "            pad_len = maxlen - seq.shape[0]\n",
        "            seq = np.vstack([seq, np.zeros((pad_len, seq.shape[1]))])\n",
        "        processed.append(seq)\n",
        "\n",
        "    return np.array(processed)\n",
        "\n",
        "# Load CullPDB and CB513 datasets\n",
        "cull = load_array(\"/content/data/cullpdb+profile_5926_filtered.npy.gz\")\n",
        "cb513 = load_array(\"/content/data/cb513+profile_split1.npy.gz\")\n",
        "\n",
        "print(\"Cull shape (before processing):\", cull.shape)\n",
        "print(\"CB513 shape (before processing):\", cb513.shape)\n",
        "\n",
        "# Fix sequence lengths\n",
        "cull_fixed = pad_or_truncate(cull)\n",
        "cb513_fixed = pad_or_truncate(cb513)\n",
        "\n",
        "print(\"Cull fixed shape:\", cull_fixed.shape)   # should be (N, 700, features)\n",
        "print(\"CB513 fixed shape:\", cb513_fixed.shape)\n"
      ],
      "metadata": {
        "colab": {
          "base_uri": "https://localhost:8080/"
        },
        "id": "NRTIeC3a3iW3",
        "outputId": "0ff520b3-6743-4787-ca3f-1c55621c1b4a"
      },
      "execution_count": 4,
      "outputs": [
        {
          "output_type": "stream",
          "name": "stdout",
          "text": [
            "Cull shape (before processing): (5365, 39900)\n",
            "CB513 shape (before processing): (514, 39900)\n",
            "Cull fixed shape: (5365, 700, 1)\n",
            "CB513 fixed shape: (514, 700, 1)\n"
          ]
        },
        {
          "output_type": "stream",
          "name": "stderr",
          "text": [
            "/tmp/ipython-input-3149097431.py:9: UserWarning: Reading `.npy` or `.npz` file required additional header parsing as it was created on Python 2. Save the file again to speed up loading and avoid this warning.\n",
            "  arr = np.load(path, allow_pickle=True)\n"
          ]
        }
      ]
    },
    {
      "cell_type": "code",
      "source": [
        "# CullPDB dataset structure:\n",
        "# [:, :, :57] → Input features\n",
        "# [:, :, 57:65] → Secondary structure labels (Q8, one-hot encoded)\n",
        "\n",
        "X_cull = cull_fixed[:, :, :57]\n",
        "y_cull = cull_fixed[:, :, 57:65]\n",
        "\n",
        "X_cb513 = cb513_fixed[:, :, :57]\n",
        "y_cb513 = cb513_fixed[:, :, 57:65]\n",
        "\n",
        "print(\"Cull X:\", X_cull.shape, \"Cull y:\", y_cull.shape)\n",
        "print(\"CB513 X:\", X_cb513.shape, \"CB513 y:\", y_cb513.shape)\n"
      ],
      "metadata": {
        "colab": {
          "base_uri": "https://localhost:8080/"
        },
        "id": "bBQYFiva4WkR",
        "outputId": "458e0d61-ddd5-4198-cd10-548c804ecc99"
      },
      "execution_count": 5,
      "outputs": [
        {
          "output_type": "stream",
          "name": "stdout",
          "text": [
            "Cull X: (5365, 700, 1) Cull y: (5365, 700, 0)\n",
            "CB513 X: (514, 700, 1) CB513 y: (514, 700, 0)\n"
          ]
        }
      ]
    },
    {
      "cell_type": "code",
      "source": [
        "from sklearn.model_selection import train_test_split\n",
        "\n",
        "X_train, X_val, y_train, y_val = train_test_split(\n",
        "    X_cull, y_cull, test_size=0.1, random_state=42\n",
        ")\n",
        "\n",
        "print(\"Train:\", X_train.shape, y_train.shape)\n",
        "print(\"Val:\", X_val.shape, y_val.shape)\n",
        "print(\"Test:\", X_cb513.shape, y_cb513.shape)  # CB513 used for testing\n"
      ],
      "metadata": {
        "colab": {
          "base_uri": "https://localhost:8080/"
        },
        "id": "O3W_jpLQ4XQV",
        "outputId": "f9337040-b51b-41db-9d10-39ccb22c4c6a"
      },
      "execution_count": 6,
      "outputs": [
        {
          "output_type": "stream",
          "name": "stdout",
          "text": [
            "Train: (4828, 700, 1) (4828, 700, 0)\n",
            "Val: (537, 700, 1) (537, 700, 0)\n",
            "Test: (514, 700, 1) (514, 700, 0)\n"
          ]
        }
      ]
    },
    {
      "cell_type": "code",
      "source": [
        "# ==========================================\n",
        "# 1) Install & Imports\n",
        "# ==========================================\n",
        "!pip -q install biopython scikit-learn imageio\n",
        "\n",
        "import os, shutil, glob, json\n",
        "import numpy as np\n",
        "import matplotlib.pyplot as plt\n",
        "from sklearn.model_selection import train_test_split\n",
        "from sklearn.metrics import classification_report, confusion_matrix\n",
        "import imageio\n",
        "\n",
        "import tensorflow as tf\n",
        "from tensorflow.keras import layers, models, callbacks\n",
        "\n",
        "# Reproducibility\n",
        "SEED = 42\n",
        "np.random.seed(SEED)\n",
        "tf.random.set_seed(SEED)\n",
        "\n",
        "# Create folders\n",
        "os.makedirs('outputs/figures', exist_ok=True)\n",
        "os.makedirs('outputs/gifs', exist_ok=True)\n",
        "os.makedirs('data', exist_ok=True)\n"
      ],
      "metadata": {
        "id": "J_tn3DZK73Ga"
      },
      "execution_count": 7,
      "outputs": []
    },
    {
      "cell_type": "code",
      "source": [
        "print(cull_fixed.shape, cb513_fixed.shape)\n",
        "print(y_train.shape)"
      ],
      "metadata": {
        "colab": {
          "base_uri": "https://localhost:8080/"
        },
        "id": "rSmtjACi78Qz",
        "outputId": "a4519fba-668f-48fd-a48a-513cb7108a60"
      },
      "execution_count": 8,
      "outputs": [
        {
          "output_type": "stream",
          "name": "stdout",
          "text": [
            "(5365, 700, 1) (514, 700, 1)\n",
            "(4828, 700, 0)\n"
          ]
        }
      ]
    },
    {
      "cell_type": "code",
      "source": [
        "import os\n",
        "\n",
        "path = \"/content/data/cullpdb+profile_5926_filtered.npy.gz\"\n",
        "print(\"File size (MB):\", os.path.getsize(path)/1e6)\n"
      ],
      "metadata": {
        "colab": {
          "base_uri": "https://localhost:8080/"
        },
        "id": "ufl_zK8994bU",
        "outputId": "5ecffd26-0e03-4072-e996-a118d6dcf0ea"
      },
      "execution_count": 9,
      "outputs": [
        {
          "output_type": "stream",
          "name": "stdout",
          "text": [
            "File size (MB): 1712.50808\n"
          ]
        }
      ]
    },
    {
      "cell_type": "code",
      "source": [
        "# ==========================================\n",
        "# 2) Load datasets (plain .npy files)\n",
        "# ==========================================\n",
        "cull_path = \"/content/data/cullpdb+profile_5926_filtered.npy.gz\"\n",
        "cb_path   = \"/content/data/cb513+profile_split1.npy.gz\"\n",
        "\n",
        "cull = np.load(cull_path, allow_pickle=True)\n",
        "cb513 = np.load(cb_path, allow_pickle=True)\n",
        "\n",
        "print(\"Cull shape (flattened):\", cull.shape)\n",
        "print(\"CB513 shape (flattened):\", cb513.shape)\n"
      ],
      "metadata": {
        "colab": {
          "base_uri": "https://localhost:8080/"
        },
        "id": "3h8RyZyM9-_f",
        "outputId": "5607f852-2391-4a63-ff1a-1a128930856f"
      },
      "execution_count": 10,
      "outputs": [
        {
          "output_type": "stream",
          "name": "stdout",
          "text": [
            "Cull shape (flattened): (5365, 39900)\n",
            "CB513 shape (flattened): (514, 39900)\n"
          ]
        },
        {
          "output_type": "stream",
          "name": "stderr",
          "text": [
            "/tmp/ipython-input-2494841204.py:8: UserWarning: Reading `.npy` or `.npz` file required additional header parsing as it was created on Python 2. Save the file again to speed up loading and avoid this warning.\n",
            "  cb513 = np.load(cb_path, allow_pickle=True)\n"
          ]
        }
      ]
    },
    {
      "cell_type": "code",
      "source": [
        "# ==========================================\n",
        "# 3) Reshape flattened arrays\n",
        "# ==========================================\n",
        "def reshape_safe(arr, maxlen=700):\n",
        "    # Number of complete sequences\n",
        "    n_samples = arr.shape[0] // maxlen\n",
        "    leftover = arr.shape[0] % maxlen\n",
        "\n",
        "    if leftover != 0:\n",
        "        # pad with zeros to make divisible\n",
        "        pad_len = maxlen - leftover\n",
        "        arr = np.vstack([arr, np.zeros((pad_len, arr.shape[1]))])\n",
        "        n_samples += 1\n",
        "    return arr.reshape(n_samples, maxlen, -1)\n",
        "\n",
        "X_cull = reshape_safe(cull)\n",
        "X_cb   = reshape_safe(cb513)\n",
        "\n",
        "print(\"Cull reshaped:\", X_cull.shape)\n",
        "print(\"CB513 reshaped:\", X_cb.shape)\n",
        "\n"
      ],
      "metadata": {
        "colab": {
          "base_uri": "https://localhost:8080/"
        },
        "id": "wRUNyom18bu9",
        "outputId": "2de42c5d-0187-4da2-9aaa-ffd4ff17c14e"
      },
      "execution_count": 11,
      "outputs": [
        {
          "output_type": "stream",
          "name": "stdout",
          "text": [
            "Cull reshaped: (8, 700, 39900)\n",
            "CB513 reshaped: (1, 700, 39900)\n"
          ]
        }
      ]
    },
    {
      "cell_type": "code",
      "source": [
        "# ==========================================\n",
        "# 4) Build features, labels, masks\n",
        "# ==========================================\n",
        "AA_ONEHOT = slice(0,22)\n",
        "Q8_ALL    = slice(22,31)\n",
        "Q8_ONLY   = slice(22,30)\n",
        "PSSM      = slice(35,57)\n",
        "USE_PSSM  = True\n",
        "\n",
        "def build_xy(arr, use_pssm=True):\n",
        "    aa = arr[:,:,AA_ONEHOT]\n",
        "    y_all = arr[:,:,Q8_ALL]\n",
        "    y = arr[:,:,Q8_ONLY]\n",
        "    mask = 1.0 - y_all[:,:,-1]  # NoSeq mask\n",
        "    if use_pssm:\n",
        "        x = np.concatenate([aa[:,:,:-1], arr[:,:,PSSM]], axis=-1)\n",
        "    else:\n",
        "        x = aa[:,:,:-1]\n",
        "    return x.astype('float32'), y.astype('float32'), mask.astype('float32')\n",
        "\n",
        "X_all, Y_all, M_all = build_xy(X_cull)\n",
        "X_test, Y_test, M_test = build_xy(X_cb)\n",
        "\n",
        "# Train/validation split\n",
        "idx = np.arange(X_all.shape[0])\n",
        "train_idx, val_idx = train_test_split(idx, test_size=0.1, random_state=SEED)\n",
        "\n",
        "X_train, Y_train, M_train = X_all[train_idx], Y_all[train_idx], M_all[train_idx]\n",
        "X_val,   Y_val,   M_val   = X_all[val_idx],   Y_all[val_idx],   M_all[val_idx]\n",
        "\n",
        "print(\"X_train:\", X_train.shape, \"Y_train:\", Y_train.shape, \"M_train:\", M_train.shape)\n",
        "print(\"X_val:\", X_val.shape, \"Y_val:\", Y_val.shape, \"M_val:\", M_val.shape)\n",
        "print(\"X_test:\", X_test.shape, \"Y_test:\", Y_test.shape, \"M_test:\", M_test.shape)\n"
      ],
      "metadata": {
        "colab": {
          "base_uri": "https://localhost:8080/"
        },
        "id": "DpMlNKAsAT8y",
        "outputId": "ce5f30d9-32fa-489c-bbbc-d60827629dc0"
      },
      "execution_count": 12,
      "outputs": [
        {
          "output_type": "stream",
          "name": "stdout",
          "text": [
            "X_train: (7, 700, 43) Y_train: (7, 700, 8) M_train: (7, 700)\n",
            "X_val: (1, 700, 43) Y_val: (1, 700, 8) M_val: (1, 700)\n",
            "X_test: (1, 700, 43) Y_test: (1, 700, 8) M_test: (1, 700)\n"
          ]
        }
      ]
    },
    {
      "cell_type": "code",
      "source": [
        "# ==========================================\n",
        "# 5) Build tf.data datasets\n",
        "# ==========================================\n",
        "BATCH = 16\n",
        "\n",
        "def make_ds(X, Y, M, shuffle=False):\n",
        "    ds = tf.data.Dataset.from_tensor_slices((X, Y, M))\n",
        "    if shuffle:\n",
        "        ds = ds.shuffle(buffer_size=len(X), seed=SEED)\n",
        "    ds = ds.batch(BATCH).prefetch(tf.data.AUTOTUNE)\n",
        "    return ds\n",
        "\n",
        "train_ds = make_ds(X_train, Y_train, M_train, shuffle=True)\n",
        "val_ds   = make_ds(X_val,   Y_val,   M_val)\n",
        "test_ds  = make_ds(X_test,  Y_test,  M_test)\n"
      ],
      "metadata": {
        "id": "fs1wW8jcAYL0"
      },
      "execution_count": 13,
      "outputs": []
    },
    {
      "cell_type": "code",
      "source": [
        "# ==========================================\n",
        "# 6) Define CNN + BiLSTM model\n",
        "# ==========================================\n",
        "F = X_train.shape[-1]\n",
        "\n",
        "inp = layers.Input(shape=(MAXLEN, F))\n",
        "x = layers.Conv1D(128, 7, padding='same', activation='relu')(inp)\n",
        "x = layers.BatchNormalization()(x)\n",
        "x = layers.Dropout(0.3)(x)\n",
        "\n",
        "x = layers.Bidirectional(layers.LSTM(128, return_sequences=True))(x)\n",
        "x = layers.Dropout(0.3)(x)\n",
        "\n",
        "x = layers.Conv1D(64, 7, padding='same', activation='relu')(x)\n",
        "x = layers.Dropout(0.3)(x)\n",
        "\n",
        "x = layers.TimeDistributed(layers.Dense(128, activation='relu'))(x)\n",
        "out = layers.TimeDistributed(layers.Dense(8, activation='softmax'))(x)\n",
        "\n",
        "model = models.Model(inp, out)\n",
        "model.compile(optimizer=tf.keras.optimizers.Adam(1e-3),\n",
        "              loss='categorical_crossentropy',\n",
        "              metrics=['accuracy'])\n",
        "model.summary()\n"
      ],
      "metadata": {
        "colab": {
          "base_uri": "https://localhost:8080/",
          "height": 527
        },
        "id": "GN9cRQ-aAan3",
        "outputId": "ae668e60-a03a-4c95-a21c-9b9b768981ee"
      },
      "execution_count": 14,
      "outputs": [
        {
          "output_type": "display_data",
          "data": {
            "text/plain": [
              "\u001b[1mModel: \"functional\"\u001b[0m\n"
            ],
            "text/html": [
              "<pre style=\"white-space:pre;overflow-x:auto;line-height:normal;font-family:Menlo,'DejaVu Sans Mono',consolas,'Courier New',monospace\"><span style=\"font-weight: bold\">Model: \"functional\"</span>\n",
              "</pre>\n"
            ]
          },
          "metadata": {}
        },
        {
          "output_type": "display_data",
          "data": {
            "text/plain": [
              "┏━━━━━━━━━━━━━━━━━━━━━━━━━━━━━━━━━┳━━━━━━━━━━━━━━━━━━━━━━━━┳━━━━━━━━━━━━━━━┓\n",
              "┃\u001b[1m \u001b[0m\u001b[1mLayer (type)                   \u001b[0m\u001b[1m \u001b[0m┃\u001b[1m \u001b[0m\u001b[1mOutput Shape          \u001b[0m\u001b[1m \u001b[0m┃\u001b[1m \u001b[0m\u001b[1m      Param #\u001b[0m\u001b[1m \u001b[0m┃\n",
              "┡━━━━━━━━━━━━━━━━━━━━━━━━━━━━━━━━━╇━━━━━━━━━━━━━━━━━━━━━━━━╇━━━━━━━━━━━━━━━┩\n",
              "│ input_layer (\u001b[38;5;33mInputLayer\u001b[0m)        │ (\u001b[38;5;45mNone\u001b[0m, \u001b[38;5;34m700\u001b[0m, \u001b[38;5;34m43\u001b[0m)        │             \u001b[38;5;34m0\u001b[0m │\n",
              "├─────────────────────────────────┼────────────────────────┼───────────────┤\n",
              "│ conv1d (\u001b[38;5;33mConv1D\u001b[0m)                 │ (\u001b[38;5;45mNone\u001b[0m, \u001b[38;5;34m700\u001b[0m, \u001b[38;5;34m128\u001b[0m)       │        \u001b[38;5;34m38,656\u001b[0m │\n",
              "├─────────────────────────────────┼────────────────────────┼───────────────┤\n",
              "│ batch_normalization             │ (\u001b[38;5;45mNone\u001b[0m, \u001b[38;5;34m700\u001b[0m, \u001b[38;5;34m128\u001b[0m)       │           \u001b[38;5;34m512\u001b[0m │\n",
              "│ (\u001b[38;5;33mBatchNormalization\u001b[0m)            │                        │               │\n",
              "├─────────────────────────────────┼────────────────────────┼───────────────┤\n",
              "│ dropout (\u001b[38;5;33mDropout\u001b[0m)               │ (\u001b[38;5;45mNone\u001b[0m, \u001b[38;5;34m700\u001b[0m, \u001b[38;5;34m128\u001b[0m)       │             \u001b[38;5;34m0\u001b[0m │\n",
              "├─────────────────────────────────┼────────────────────────┼───────────────┤\n",
              "│ bidirectional (\u001b[38;5;33mBidirectional\u001b[0m)   │ (\u001b[38;5;45mNone\u001b[0m, \u001b[38;5;34m700\u001b[0m, \u001b[38;5;34m256\u001b[0m)       │       \u001b[38;5;34m263,168\u001b[0m │\n",
              "├─────────────────────────────────┼────────────────────────┼───────────────┤\n",
              "│ dropout_1 (\u001b[38;5;33mDropout\u001b[0m)             │ (\u001b[38;5;45mNone\u001b[0m, \u001b[38;5;34m700\u001b[0m, \u001b[38;5;34m256\u001b[0m)       │             \u001b[38;5;34m0\u001b[0m │\n",
              "├─────────────────────────────────┼────────────────────────┼───────────────┤\n",
              "│ conv1d_1 (\u001b[38;5;33mConv1D\u001b[0m)               │ (\u001b[38;5;45mNone\u001b[0m, \u001b[38;5;34m700\u001b[0m, \u001b[38;5;34m64\u001b[0m)        │       \u001b[38;5;34m114,752\u001b[0m │\n",
              "├─────────────────────────────────┼────────────────────────┼───────────────┤\n",
              "│ dropout_2 (\u001b[38;5;33mDropout\u001b[0m)             │ (\u001b[38;5;45mNone\u001b[0m, \u001b[38;5;34m700\u001b[0m, \u001b[38;5;34m64\u001b[0m)        │             \u001b[38;5;34m0\u001b[0m │\n",
              "├─────────────────────────────────┼────────────────────────┼───────────────┤\n",
              "│ time_distributed                │ (\u001b[38;5;45mNone\u001b[0m, \u001b[38;5;34m700\u001b[0m, \u001b[38;5;34m128\u001b[0m)       │         \u001b[38;5;34m8,320\u001b[0m │\n",
              "│ (\u001b[38;5;33mTimeDistributed\u001b[0m)               │                        │               │\n",
              "├─────────────────────────────────┼────────────────────────┼───────────────┤\n",
              "│ time_distributed_1              │ (\u001b[38;5;45mNone\u001b[0m, \u001b[38;5;34m700\u001b[0m, \u001b[38;5;34m8\u001b[0m)         │         \u001b[38;5;34m1,032\u001b[0m │\n",
              "│ (\u001b[38;5;33mTimeDistributed\u001b[0m)               │                        │               │\n",
              "└─────────────────────────────────┴────────────────────────┴───────────────┘\n"
            ],
            "text/html": [
              "<pre style=\"white-space:pre;overflow-x:auto;line-height:normal;font-family:Menlo,'DejaVu Sans Mono',consolas,'Courier New',monospace\">┏━━━━━━━━━━━━━━━━━━━━━━━━━━━━━━━━━┳━━━━━━━━━━━━━━━━━━━━━━━━┳━━━━━━━━━━━━━━━┓\n",
              "┃<span style=\"font-weight: bold\"> Layer (type)                    </span>┃<span style=\"font-weight: bold\"> Output Shape           </span>┃<span style=\"font-weight: bold\">       Param # </span>┃\n",
              "┡━━━━━━━━━━━━━━━━━━━━━━━━━━━━━━━━━╇━━━━━━━━━━━━━━━━━━━━━━━━╇━━━━━━━━━━━━━━━┩\n",
              "│ input_layer (<span style=\"color: #0087ff; text-decoration-color: #0087ff\">InputLayer</span>)        │ (<span style=\"color: #00d7ff; text-decoration-color: #00d7ff\">None</span>, <span style=\"color: #00af00; text-decoration-color: #00af00\">700</span>, <span style=\"color: #00af00; text-decoration-color: #00af00\">43</span>)        │             <span style=\"color: #00af00; text-decoration-color: #00af00\">0</span> │\n",
              "├─────────────────────────────────┼────────────────────────┼───────────────┤\n",
              "│ conv1d (<span style=\"color: #0087ff; text-decoration-color: #0087ff\">Conv1D</span>)                 │ (<span style=\"color: #00d7ff; text-decoration-color: #00d7ff\">None</span>, <span style=\"color: #00af00; text-decoration-color: #00af00\">700</span>, <span style=\"color: #00af00; text-decoration-color: #00af00\">128</span>)       │        <span style=\"color: #00af00; text-decoration-color: #00af00\">38,656</span> │\n",
              "├─────────────────────────────────┼────────────────────────┼───────────────┤\n",
              "│ batch_normalization             │ (<span style=\"color: #00d7ff; text-decoration-color: #00d7ff\">None</span>, <span style=\"color: #00af00; text-decoration-color: #00af00\">700</span>, <span style=\"color: #00af00; text-decoration-color: #00af00\">128</span>)       │           <span style=\"color: #00af00; text-decoration-color: #00af00\">512</span> │\n",
              "│ (<span style=\"color: #0087ff; text-decoration-color: #0087ff\">BatchNormalization</span>)            │                        │               │\n",
              "├─────────────────────────────────┼────────────────────────┼───────────────┤\n",
              "│ dropout (<span style=\"color: #0087ff; text-decoration-color: #0087ff\">Dropout</span>)               │ (<span style=\"color: #00d7ff; text-decoration-color: #00d7ff\">None</span>, <span style=\"color: #00af00; text-decoration-color: #00af00\">700</span>, <span style=\"color: #00af00; text-decoration-color: #00af00\">128</span>)       │             <span style=\"color: #00af00; text-decoration-color: #00af00\">0</span> │\n",
              "├─────────────────────────────────┼────────────────────────┼───────────────┤\n",
              "│ bidirectional (<span style=\"color: #0087ff; text-decoration-color: #0087ff\">Bidirectional</span>)   │ (<span style=\"color: #00d7ff; text-decoration-color: #00d7ff\">None</span>, <span style=\"color: #00af00; text-decoration-color: #00af00\">700</span>, <span style=\"color: #00af00; text-decoration-color: #00af00\">256</span>)       │       <span style=\"color: #00af00; text-decoration-color: #00af00\">263,168</span> │\n",
              "├─────────────────────────────────┼────────────────────────┼───────────────┤\n",
              "│ dropout_1 (<span style=\"color: #0087ff; text-decoration-color: #0087ff\">Dropout</span>)             │ (<span style=\"color: #00d7ff; text-decoration-color: #00d7ff\">None</span>, <span style=\"color: #00af00; text-decoration-color: #00af00\">700</span>, <span style=\"color: #00af00; text-decoration-color: #00af00\">256</span>)       │             <span style=\"color: #00af00; text-decoration-color: #00af00\">0</span> │\n",
              "├─────────────────────────────────┼────────────────────────┼───────────────┤\n",
              "│ conv1d_1 (<span style=\"color: #0087ff; text-decoration-color: #0087ff\">Conv1D</span>)               │ (<span style=\"color: #00d7ff; text-decoration-color: #00d7ff\">None</span>, <span style=\"color: #00af00; text-decoration-color: #00af00\">700</span>, <span style=\"color: #00af00; text-decoration-color: #00af00\">64</span>)        │       <span style=\"color: #00af00; text-decoration-color: #00af00\">114,752</span> │\n",
              "├─────────────────────────────────┼────────────────────────┼───────────────┤\n",
              "│ dropout_2 (<span style=\"color: #0087ff; text-decoration-color: #0087ff\">Dropout</span>)             │ (<span style=\"color: #00d7ff; text-decoration-color: #00d7ff\">None</span>, <span style=\"color: #00af00; text-decoration-color: #00af00\">700</span>, <span style=\"color: #00af00; text-decoration-color: #00af00\">64</span>)        │             <span style=\"color: #00af00; text-decoration-color: #00af00\">0</span> │\n",
              "├─────────────────────────────────┼────────────────────────┼───────────────┤\n",
              "│ time_distributed                │ (<span style=\"color: #00d7ff; text-decoration-color: #00d7ff\">None</span>, <span style=\"color: #00af00; text-decoration-color: #00af00\">700</span>, <span style=\"color: #00af00; text-decoration-color: #00af00\">128</span>)       │         <span style=\"color: #00af00; text-decoration-color: #00af00\">8,320</span> │\n",
              "│ (<span style=\"color: #0087ff; text-decoration-color: #0087ff\">TimeDistributed</span>)               │                        │               │\n",
              "├─────────────────────────────────┼────────────────────────┼───────────────┤\n",
              "│ time_distributed_1              │ (<span style=\"color: #00d7ff; text-decoration-color: #00d7ff\">None</span>, <span style=\"color: #00af00; text-decoration-color: #00af00\">700</span>, <span style=\"color: #00af00; text-decoration-color: #00af00\">8</span>)         │         <span style=\"color: #00af00; text-decoration-color: #00af00\">1,032</span> │\n",
              "│ (<span style=\"color: #0087ff; text-decoration-color: #0087ff\">TimeDistributed</span>)               │                        │               │\n",
              "└─────────────────────────────────┴────────────────────────┴───────────────┘\n",
              "</pre>\n"
            ]
          },
          "metadata": {}
        },
        {
          "output_type": "display_data",
          "data": {
            "text/plain": [
              "\u001b[1m Total params: \u001b[0m\u001b[38;5;34m426,440\u001b[0m (1.63 MB)\n"
            ],
            "text/html": [
              "<pre style=\"white-space:pre;overflow-x:auto;line-height:normal;font-family:Menlo,'DejaVu Sans Mono',consolas,'Courier New',monospace\"><span style=\"font-weight: bold\"> Total params: </span><span style=\"color: #00af00; text-decoration-color: #00af00\">426,440</span> (1.63 MB)\n",
              "</pre>\n"
            ]
          },
          "metadata": {}
        },
        {
          "output_type": "display_data",
          "data": {
            "text/plain": [
              "\u001b[1m Trainable params: \u001b[0m\u001b[38;5;34m426,184\u001b[0m (1.63 MB)\n"
            ],
            "text/html": [
              "<pre style=\"white-space:pre;overflow-x:auto;line-height:normal;font-family:Menlo,'DejaVu Sans Mono',consolas,'Courier New',monospace\"><span style=\"font-weight: bold\"> Trainable params: </span><span style=\"color: #00af00; text-decoration-color: #00af00\">426,184</span> (1.63 MB)\n",
              "</pre>\n"
            ]
          },
          "metadata": {}
        },
        {
          "output_type": "display_data",
          "data": {
            "text/plain": [
              "\u001b[1m Non-trainable params: \u001b[0m\u001b[38;5;34m256\u001b[0m (1.00 KB)\n"
            ],
            "text/html": [
              "<pre style=\"white-space:pre;overflow-x:auto;line-height:normal;font-family:Menlo,'DejaVu Sans Mono',consolas,'Courier New',monospace\"><span style=\"font-weight: bold\"> Non-trainable params: </span><span style=\"color: #00af00; text-decoration-color: #00af00\">256</span> (1.00 KB)\n",
              "</pre>\n"
            ]
          },
          "metadata": {}
        }
      ]
    },
    {
      "cell_type": "code",
      "source": [
        "# ==========================================\n",
        "# 7) Train model\n",
        "# ==========================================\n",
        "EPOCHS = 30\n",
        "\n",
        "history = model.fit(\n",
        "    train_ds,\n",
        "    validation_data=val_ds,\n",
        "    epochs=EPOCHS\n",
        ")\n"
      ],
      "metadata": {
        "colab": {
          "base_uri": "https://localhost:8080/"
        },
        "id": "Ej9MtMG8AdWu",
        "outputId": "0dd6511d-ef10-4dc7-cf7f-3b45a02fedd7"
      },
      "execution_count": 15,
      "outputs": [
        {
          "output_type": "stream",
          "name": "stdout",
          "text": [
            "Epoch 1/30\n",
            "\u001b[1m1/1\u001b[0m \u001b[32m━━━━━━━━━━━━━━━━━━━━\u001b[0m\u001b[37m\u001b[0m \u001b[1m114s\u001b[0m 114s/step - accuracy: 0.1029 - loss: 1.9845 - val_accuracy: 1.0000 - val_loss: 1.8879\n",
            "Epoch 2/30\n",
            "\u001b[1m1/1\u001b[0m \u001b[32m━━━━━━━━━━━━━━━━━━━━\u001b[0m\u001b[37m\u001b[0m \u001b[1m21s\u001b[0m 21s/step - accuracy: 0.4443 - loss: 1.7980 - val_accuracy: 1.0000 - val_loss: 1.5397\n",
            "Epoch 3/30\n",
            "\u001b[1m1/1\u001b[0m \u001b[32m━━━━━━━━━━━━━━━━━━━━\u001b[0m\u001b[37m\u001b[0m \u001b[1m3s\u001b[0m 3s/step - accuracy: 0.8041 - loss: 1.5775 - val_accuracy: 1.0000 - val_loss: 1.0625\n",
            "Epoch 4/30\n",
            "\u001b[1m1/1\u001b[0m \u001b[32m━━━━━━━━━━━━━━━━━━━━\u001b[0m\u001b[37m\u001b[0m \u001b[1m5s\u001b[0m 5s/step - accuracy: 0.9263 - loss: 1.2979 - val_accuracy: 1.0000 - val_loss: 0.5097\n",
            "Epoch 5/30\n",
            "\u001b[1m1/1\u001b[0m \u001b[32m━━━━━━━━━━━━━━━━━━━━\u001b[0m\u001b[37m\u001b[0m \u001b[1m2s\u001b[0m 2s/step - accuracy: 0.9482 - loss: 0.9297 - val_accuracy: 1.0000 - val_loss: 0.1177\n",
            "Epoch 6/30\n",
            "\u001b[1m1/1\u001b[0m \u001b[32m━━━━━━━━━━━━━━━━━━━━\u001b[0m\u001b[37m\u001b[0m \u001b[1m3s\u001b[0m 3s/step - accuracy: 0.9510 - loss: 0.5634 - val_accuracy: 1.0000 - val_loss: 0.0102\n",
            "Epoch 7/30\n",
            "\u001b[1m1/1\u001b[0m \u001b[32m━━━━━━━━━━━━━━━━━━━━\u001b[0m\u001b[37m\u001b[0m \u001b[1m3s\u001b[0m 3s/step - accuracy: 0.9516 - loss: 0.2636 - val_accuracy: 1.0000 - val_loss: 6.7265e-04\n",
            "Epoch 8/30\n",
            "\u001b[1m1/1\u001b[0m \u001b[32m━━━━━━━━━━━━━━━━━━━━\u001b[0m\u001b[37m\u001b[0m \u001b[1m2s\u001b[0m 2s/step - accuracy: 0.9516 - loss: 0.0793 - val_accuracy: 1.0000 - val_loss: 7.9513e-05\n",
            "Epoch 9/30\n",
            "\u001b[1m1/1\u001b[0m \u001b[32m━━━━━━━━━━━━━━━━━━━━\u001b[0m\u001b[37m\u001b[0m \u001b[1m2s\u001b[0m 2s/step - accuracy: 0.9522 - loss: 0.0186 - val_accuracy: 1.0000 - val_loss: 1.0597e-05\n",
            "Epoch 10/30\n",
            "\u001b[1m1/1\u001b[0m \u001b[32m━━━━━━━━━━━━━━━━━━━━\u001b[0m\u001b[37m\u001b[0m \u001b[1m3s\u001b[0m 3s/step - accuracy: 0.9522 - loss: 0.0044 - val_accuracy: 1.0000 - val_loss: 1.5545e-06\n",
            "Epoch 11/30\n",
            "\u001b[1m1/1\u001b[0m \u001b[32m━━━━━━━━━━━━━━━━━━━━\u001b[0m\u001b[37m\u001b[0m \u001b[1m3s\u001b[0m 3s/step - accuracy: 0.9535 - loss: 0.0015 - val_accuracy: 1.0000 - val_loss: 3.3184e-07\n",
            "Epoch 12/30\n",
            "\u001b[1m1/1\u001b[0m \u001b[32m━━━━━━━━━━━━━━━━━━━━\u001b[0m\u001b[37m\u001b[0m \u001b[1m3s\u001b[0m 3s/step - accuracy: 0.9561 - loss: 4.5105e-04 - val_accuracy: 1.0000 - val_loss: 1.5344e-07\n",
            "Epoch 13/30\n",
            "\u001b[1m1/1\u001b[0m \u001b[32m━━━━━━━━━━━━━━━━━━━━\u001b[0m\u001b[37m\u001b[0m \u001b[1m2s\u001b[0m 2s/step - accuracy: 0.9576 - loss: 1.5702e-04 - val_accuracy: 1.0000 - val_loss: 1.2491e-07\n",
            "Epoch 14/30\n",
            "\u001b[1m1/1\u001b[0m \u001b[32m━━━━━━━━━━━━━━━━━━━━\u001b[0m\u001b[37m\u001b[0m \u001b[1m3s\u001b[0m 3s/step - accuracy: 0.9653 - loss: 3.1702e-05 - val_accuracy: 1.0000 - val_loss: 1.2023e-07\n",
            "Epoch 15/30\n",
            "\u001b[1m1/1\u001b[0m \u001b[32m━━━━━━━━━━━━━━━━━━━━\u001b[0m\u001b[37m\u001b[0m \u001b[1m2s\u001b[0m 2s/step - accuracy: 0.9659 - loss: 6.1741e-06 - val_accuracy: 1.0000 - val_loss: 1.1921e-07\n",
            "Epoch 16/30\n",
            "\u001b[1m1/1\u001b[0m \u001b[32m━━━━━━━━━━━━━━━━━━━━\u001b[0m\u001b[37m\u001b[0m \u001b[1m6s\u001b[0m 6s/step - accuracy: 0.9710 - loss: 5.9090e-06 - val_accuracy: 1.0000 - val_loss: 1.1921e-07\n",
            "Epoch 17/30\n",
            "\u001b[1m1/1\u001b[0m \u001b[32m━━━━━━━━━━━━━━━━━━━━\u001b[0m\u001b[37m\u001b[0m \u001b[1m6s\u001b[0m 6s/step - accuracy: 0.9722 - loss: 7.9798e-07 - val_accuracy: 1.0000 - val_loss: 1.1921e-07\n",
            "Epoch 18/30\n",
            "\u001b[1m1/1\u001b[0m \u001b[32m━━━━━━━━━━━━━━━━━━━━\u001b[0m\u001b[37m\u001b[0m \u001b[1m3s\u001b[0m 3s/step - accuracy: 0.9788 - loss: 7.0698e-07 - val_accuracy: 1.0000 - val_loss: 1.1921e-07\n",
            "Epoch 19/30\n",
            "\u001b[1m1/1\u001b[0m \u001b[32m━━━━━━━━━━━━━━━━━━━━\u001b[0m\u001b[37m\u001b[0m \u001b[1m3s\u001b[0m 3s/step - accuracy: 0.9784 - loss: 3.7276e-07 - val_accuracy: 1.0000 - val_loss: 1.1921e-07\n",
            "Epoch 20/30\n",
            "\u001b[1m1/1\u001b[0m \u001b[32m━━━━━━━━━━━━━━━━━━━━\u001b[0m\u001b[37m\u001b[0m \u001b[1m5s\u001b[0m 5s/step - accuracy: 0.9843 - loss: 2.5643e-07 - val_accuracy: 1.0000 - val_loss: 1.1921e-07\n",
            "Epoch 21/30\n",
            "\u001b[1m1/1\u001b[0m \u001b[32m━━━━━━━━━━━━━━━━━━━━\u001b[0m\u001b[37m\u001b[0m \u001b[1m2s\u001b[0m 2s/step - accuracy: 0.9851 - loss: 2.3313e-07 - val_accuracy: 1.0000 - val_loss: 1.1921e-07\n",
            "Epoch 22/30\n",
            "\u001b[1m1/1\u001b[0m \u001b[32m━━━━━━━━━━━━━━━━━━━━\u001b[0m\u001b[37m\u001b[0m \u001b[1m4s\u001b[0m 4s/step - accuracy: 0.9880 - loss: 1.8414e-07 - val_accuracy: 1.0000 - val_loss: 1.1921e-07\n",
            "Epoch 23/30\n",
            "\u001b[1m1/1\u001b[0m \u001b[32m━━━━━━━━━━━━━━━━━━━━\u001b[0m\u001b[37m\u001b[0m \u001b[1m3s\u001b[0m 3s/step - accuracy: 0.9902 - loss: 1.2921e-07 - val_accuracy: 1.0000 - val_loss: 1.1921e-07\n",
            "Epoch 24/30\n",
            "\u001b[1m1/1\u001b[0m \u001b[32m━━━━━━━━━━━━━━━━━━━━\u001b[0m\u001b[37m\u001b[0m \u001b[1m3s\u001b[0m 3s/step - accuracy: 0.9924 - loss: 1.2052e-07 - val_accuracy: 1.0000 - val_loss: 1.1921e-07\n",
            "Epoch 25/30\n",
            "\u001b[1m1/1\u001b[0m \u001b[32m━━━━━━━━━━━━━━━━━━━━\u001b[0m\u001b[37m\u001b[0m \u001b[1m2s\u001b[0m 2s/step - accuracy: 0.9945 - loss: 1.6866e-07 - val_accuracy: 1.0000 - val_loss: 1.1921e-07\n",
            "Epoch 26/30\n",
            "\u001b[1m1/1\u001b[0m \u001b[32m━━━━━━━━━━━━━━━━━━━━\u001b[0m\u001b[37m\u001b[0m \u001b[1m3s\u001b[0m 3s/step - accuracy: 0.9949 - loss: 1.1538e-07 - val_accuracy: 1.0000 - val_loss: 1.1921e-07\n",
            "Epoch 27/30\n",
            "\u001b[1m1/1\u001b[0m \u001b[32m━━━━━━━━━━━━━━━━━━━━\u001b[0m\u001b[37m\u001b[0m \u001b[1m4s\u001b[0m 4s/step - accuracy: 0.9963 - loss: 1.1425e-07 - val_accuracy: 1.0000 - val_loss: 1.1921e-07\n",
            "Epoch 28/30\n",
            "\u001b[1m1/1\u001b[0m \u001b[32m━━━━━━━━━━━━━━━━━━━━\u001b[0m\u001b[37m\u001b[0m \u001b[1m2s\u001b[0m 2s/step - accuracy: 0.9969 - loss: 1.1352e-07 - val_accuracy: 1.0000 - val_loss: 1.1921e-07\n",
            "Epoch 29/30\n",
            "\u001b[1m1/1\u001b[0m \u001b[32m━━━━━━━━━━━━━━━━━━━━\u001b[0m\u001b[37m\u001b[0m \u001b[1m3s\u001b[0m 3s/step - accuracy: 0.9959 - loss: 1.1838e-07 - val_accuracy: 1.0000 - val_loss: 1.1921e-07\n",
            "Epoch 30/30\n",
            "\u001b[1m1/1\u001b[0m \u001b[32m━━━━━━━━━━━━━━━━━━━━\u001b[0m\u001b[37m\u001b[0m \u001b[1m5s\u001b[0m 5s/step - accuracy: 0.9965 - loss: 5.1763e-07 - val_accuracy: 1.0000 - val_loss: 1.1921e-07\n"
          ]
        }
      ]
    },
    {
      "cell_type": "code",
      "source": [
        "# ==========================================\n",
        "# 8) Plot loss & accuracy\n",
        "# ==========================================\n",
        "hist = history.history\n",
        "\n",
        "plt.figure()\n",
        "plt.plot(hist['loss'], label='train')\n",
        "plt.plot(hist['val_loss'], label='val')\n",
        "plt.xlabel('Epoch'); plt.ylabel('Loss'); plt.title('Loss over epochs'); plt.legend(); plt.show()\n",
        "\n",
        "plt.figure()\n",
        "plt.plot(hist['accuracy'], label='train')\n",
        "plt.plot(hist['val_accuracy'], label='val')\n",
        "plt.xlabel('Epoch'); plt.ylabel('Accuracy'); plt.title('Accuracy over epochs'); plt.legend(); plt.show()\n"
      ],
      "metadata": {
        "colab": {
          "base_uri": "https://localhost:8080/",
          "height": 927
        },
        "id": "dQtFivHTBfcS",
        "outputId": "7c091919-0cf2-4388-a3d9-394dbcf29c73"
      },
      "execution_count": 17,
      "outputs": [
        {
          "output_type": "display_data",
          "data": {
            "text/plain": [
              "<Figure size 640x480 with 1 Axes>"
            ],
            "image/png": "[encoded data removed]"
          },
          "metadata": {}
        },
        {
          "output_type": "display_data",
          "data": {
            "text/plain": [
              "<Figure size 640x480 with 1 Axes>"
            ],
            "image/png": "[encoded data removed]"
          },
          "metadata": {}
        }
      ]
    },
    {
      "cell_type": "code",
      "source": [
        "# ==========================================\n",
        "# 9) Evaluate on test set (CB513)\n",
        "# ==========================================\n",
        "import numpy as np\n",
        "import matplotlib.pyplot as plt\n",
        "from sklearn.metrics import classification_report, confusion_matrix\n",
        "\n",
        "# Predict on test set\n",
        "preds = model.predict(X_test, batch_size=16)\n",
        "\n",
        "# Flatten masks and filter padded positions\n",
        "mask_flat = (M_test.reshape(-1) > 0.5)\n",
        "\n",
        "# Get predicted and true labels (argmax over Q8 classes)\n",
        "pred_labels = preds.argmax(-1).reshape(-1)[mask_flat]\n",
        "true_labels = Y_test.argmax(-1).reshape(-1)[mask_flat]\n",
        "\n",
        "# Q8 classes\n",
        "class_names = ['L','B','E','G','I','H','S','T']\n",
        "labels = list(range(8))  # numeric labels 0-7\n",
        "\n",
        "# Classification report\n",
        "print(\"=== Q8 Classification Report ===\")\n",
        "print(classification_report(\n",
        "    true_labels,\n",
        "    pred_labels,\n",
        "    labels=labels,           # ensures correct mapping\n",
        "    target_names=class_names,\n",
        "    digits=4\n",
        "))\n",
        "\n",
        "# Confusion matrix\n",
        "cm = confusion_matrix(true_labels, pred_labels, labels=labels)\n",
        "plt.figure(figsize=(6,5))\n",
        "plt.imshow(cm, aspect='auto', cmap='Blues')\n",
        "plt.title('Confusion Matrix (CB513)')\n",
        "plt.xlabel('Predicted'); plt.ylabel('True')\n",
        "plt.xticks(np.arange(8), class_names)\n",
        "plt.yticks(np.arange(8), class_names)\n",
        "plt.colorbar(); plt.tight_layout(); plt.show()\n"
      ],
      "metadata": {
        "colab": {
          "base_uri": "https://localhost:8080/",
          "height": 1000
        },
        "id": "8cAYmVW-Bh0F",
        "outputId": "3d3436a0-6e35-4b1c-cdaa-ce2ba8d186b9"
      },
      "execution_count": 18,
      "outputs": [
        {
          "output_type": "stream",
          "name": "stdout",
          "text": [
            "\u001b[1m1/1\u001b[0m \u001b[32m━━━━━━━━━━━━━━━━━━━━\u001b[0m\u001b[37m\u001b[0m \u001b[1m17s\u001b[0m 17s/step\n",
            "=== Q8 Classification Report ===\n",
            "              precision    recall  f1-score   support\n",
            "\n",
            "           L     0.9057    1.0000    0.9505       634\n",
            "           B     0.0000    0.0000    0.0000         6\n",
            "           E     0.0000    0.0000    0.0000         9\n",
            "           G     0.0000    0.0000    0.0000         7\n",
            "           I     0.0000    0.0000    0.0000         0\n",
            "           H     0.0000    0.0000    0.0000        16\n",
            "           S     0.0000    0.0000    0.0000        17\n",
            "           T     0.0000    0.0000    0.0000        11\n",
            "\n",
            "    accuracy                         0.9057       700\n",
            "   macro avg     0.1132    0.1250    0.1188       700\n",
            "weighted avg     0.8203    0.9057    0.8609       700\n",
            "\n"
          ]
        },
        {
          "output_type": "stream",
          "name": "stderr",
          "text": [
            "/usr/local/lib/python3.11/dist-packages/sklearn/metrics/_classification.py:1565: UndefinedMetricWarning: Precision is ill-defined and being set to 0.0 in labels with no predicted samples. Use `zero_division` parameter to control this behavior.\n",
            "  _warn_prf(average, modifier, f\"{metric.capitalize()} is\", len(result))\n",
            "/usr/local/lib/python3.11/dist-packages/sklearn/metrics/_classification.py:1565: UndefinedMetricWarning: Recall is ill-defined and being set to 0.0 in labels with no true samples. Use `zero_division` parameter to control this behavior.\n",
            "  _warn_prf(average, modifier, f\"{metric.capitalize()} is\", len(result))\n",
            "/usr/local/lib/python3.11/dist-packages/sklearn/metrics/_classification.py:1565: UndefinedMetricWarning: F-score is ill-defined and being set to 0.0 in labels with no true nor predicted samples. Use `zero_division` parameter to control this behavior.\n",
            "  _warn_prf(average, modifier, f\"{metric.capitalize()} is\", len(result))\n",
            "/usr/local/lib/python3.11/dist-packages/sklearn/metrics/_classification.py:1565: UndefinedMetricWarning: Precision is ill-defined and being set to 0.0 in labels with no predicted samples. Use `zero_division` parameter to control this behavior.\n",
            "  _warn_prf(average, modifier, f\"{metric.capitalize()} is\", len(result))\n",
            "/usr/local/lib/python3.11/dist-packages/sklearn/metrics/_classification.py:1565: UndefinedMetricWarning: Recall is ill-defined and being set to 0.0 in labels with no true samples. Use `zero_division` parameter to control this behavior.\n",
            "  _warn_prf(average, modifier, f\"{metric.capitalize()} is\", len(result))\n",
            "/usr/local/lib/python3.11/dist-packages/sklearn/metrics/_classification.py:1565: UndefinedMetricWarning: F-score is ill-defined and being set to 0.0 in labels with no true nor predicted samples. Use `zero_division` parameter to control this behavior.\n",
            "  _warn_prf(average, modifier, f\"{metric.capitalize()} is\", len(result))\n",
            "/usr/local/lib/python3.11/dist-packages/sklearn/metrics/_classification.py:1565: UndefinedMetricWarning: Precision is ill-defined and being set to 0.0 in labels with no predicted samples. Use `zero_division` parameter to control this behavior.\n",
            "  _warn_prf(average, modifier, f\"{metric.capitalize()} is\", len(result))\n",
            "/usr/local/lib/python3.11/dist-packages/sklearn/metrics/_classification.py:1565: UndefinedMetricWarning: Recall is ill-defined and being set to 0.0 in labels with no true samples. Use `zero_division` parameter to control this behavior.\n",
            "  _warn_prf(average, modifier, f\"{metric.capitalize()} is\", len(result))\n",
            "/usr/local/lib/python3.11/dist-packages/sklearn/metrics/_classification.py:1565: UndefinedMetricWarning: F-score is ill-defined and being set to 0.0 in labels with no true nor predicted samples. Use `zero_division` parameter to control this behavior.\n",
            "  _warn_prf(average, modifier, f\"{metric.capitalize()} is\", len(result))\n"
          ]
        },
        {
          "output_type": "display_data",
          "data": {
            "text/plain": [
              "<Figure size 600x500 with 2 Axes>"
            ],
            "image/png": "[encoded data removed]"
          },
          "metadata": {}
        }
      ]
    },
    {
      "cell_type": "code",
      "source": [
        "import os, glob, shutil\n",
        "import imageio\n",
        "import matplotlib.pyplot as plt\n",
        "from tensorflow.keras import callbacks\n",
        "from IPython.display import display, HTML\n",
        "\n",
        "class WeightGIFCallback(callbacks.Callback):\n",
        "    def __init__(self, layers_to_track=None, outdir='outputs/gifs', fps=2, display_gif=True):\n",
        "        super().__init__()\n",
        "        self.layers_to_track = layers_to_track\n",
        "        self.outdir = outdir\n",
        "        self.fps = fps\n",
        "        self.display_gif = display_gif\n",
        "        os.makedirs(outdir, exist_ok=True)\n",
        "\n",
        "    def on_train_begin(self, logs=None):\n",
        "        if self.layers_to_track is None:\n",
        "            self.layers_to_track = [l.name for l in self.model.layers if l.weights]\n",
        "        print('Tracking layers:', self.layers_to_track)\n",
        "        for ln in self.layers_to_track:\n",
        "            layer_dir = os.path.join(self.outdir, ln)\n",
        "            if os.path.exists(layer_dir):\n",
        "                shutil.rmtree(layer_dir)\n",
        "            os.makedirs(layer_dir, exist_ok=True)\n",
        "\n",
        "    def _plot_weight(self, w, title, save_path):\n",
        "        plt.figure(figsize=(5,4))\n",
        "        wflat = w.flatten()\n",
        "        if w.ndim >= 2 and w.shape[0]*w.shape[1] <= 200_000:\n",
        "            mat = w if w.ndim == 2 else w.reshape(w.shape[0], -1)\n",
        "            plt.imshow(mat, aspect='auto', cmap='coolwarm')\n",
        "            plt.colorbar()\n",
        "        else:\n",
        "            plt.hist(wflat, bins=50, color='skyblue')\n",
        "        plt.title(title)\n",
        "        plt.tight_layout()\n",
        "        plt.savefig(save_path)\n",
        "        plt.close()\n",
        "\n",
        "    def on_epoch_end(self, epoch, logs=None):\n",
        "        for layer in self.model.layers:\n",
        "            if layer.name not in self.layers_to_track:\n",
        "                continue\n",
        "            weights = layer.get_weights()\n",
        "            if not weights:\n",
        "                continue\n",
        "            for i, w in enumerate(weights[:2]):\n",
        "                frame_path = os.path.join(self.outdir, layer.name, f'ep{epoch:03d}_w{i}.png')\n",
        "                self._plot_weight(w, f'{layer.name} / w{i} / epoch {epoch+1}', frame_path)\n",
        "\n",
        "    def on_train_end(self, logs=None):\n",
        "        for layer_name in self.layers_to_track:\n",
        "            layer_dir = os.path.join(self.outdir, layer_name)\n",
        "            by_weight = {}\n",
        "            for p in sorted(glob.glob(os.path.join(layer_dir, 'ep*_w*.png'))):\n",
        "                wi = int(p.split('_w')[-1].split('.png')[0])\n",
        "                by_weight.setdefault(wi, []).append(p)\n",
        "            for wi, frames in by_weight.items():\n",
        "                images = [imageio.v2.imread(f) for f in frames]\n",
        "                gif_path = os.path.join(self.outdir, f'{layer_name}_w{wi}.gif')\n",
        "                imageio.mimsave(gif_path, images, fps=self.fps)\n",
        "                print('Saved GIF:', gif_path)\n",
        "                if self.display_gif:\n",
        "                    display(HTML(f'<h4>{layer_name} / w{wi}</h4><img src=\"{gif_path}\" width=\"600\">'))\n",
        "\n",
        "# Usage\n",
        "weight_gif_cb = WeightGIFCallback(\n",
        "    layers_to_track=['conv1', 'bilstm1', 'conv2', 'tdense1', 'q8_logits'],\n",
        "    fps=2,\n",
        "    display_gif=True\n",
        ")\n",
        "\n",
        "# Then add `weight_gif_cb` to your model.fit() callbacks:\n",
        "model.fit(train_ds, validation_data=val_ds, epochs=30, callbacks=[weight_gif_cb])\n"
      ],
      "metadata": {
        "colab": {
          "base_uri": "https://localhost:8080/"
        },
        "id": "tVdilo9iCZxv",
        "outputId": "3edf9166-71eb-4546-c64d-75bbb610b562"
      },
      "execution_count": 19,
      "outputs": [
        {
          "output_type": "stream",
          "name": "stdout",
          "text": [
            "Tracking layers: ['conv1', 'bilstm1', 'conv2', 'tdense1', 'q8_logits']\n",
            "Epoch 1/30\n",
            "\u001b[1m1/1\u001b[0m \u001b[32m━━━━━━━━━━━━━━━━━━━━\u001b[0m\u001b[37m\u001b[0m \u001b[1m7s\u001b[0m 7s/step - accuracy: 0.9978 - loss: 1.2872e-07 - val_accuracy: 1.0000 - val_loss: 1.1921e-07\n",
            "Epoch 2/30\n",
            "\u001b[1m1/1\u001b[0m \u001b[32m━━━━━━━━━━━━━━━━━━━━\u001b[0m\u001b[37m\u001b[0m \u001b[1m2s\u001b[0m 2s/step - accuracy: 0.9973 - loss: 1.1374e-07 - val_accuracy: 1.0000 - val_loss: 1.1921e-07\n",
            "Epoch 3/30\n",
            "\u001b[1m1/1\u001b[0m \u001b[32m━━━━━━━━━━━━━━━━━━━━\u001b[0m\u001b[37m\u001b[0m \u001b[1m3s\u001b[0m 3s/step - accuracy: 0.9971 - loss: 1.1582e-07 - val_accuracy: 1.0000 - val_loss: 1.1921e-07\n",
            "Epoch 4/30\n",
            "\u001b[1m1/1\u001b[0m \u001b[32m━━━━━━━━━━━━━━━━━━━━\u001b[0m\u001b[37m\u001b[0m \u001b[1m2s\u001b[0m 2s/step - accuracy: 0.9988 - loss: 1.1982e-07 - val_accuracy: 1.0000 - val_loss: 1.1921e-07\n",
            "Epoch 5/30\n",
            "\u001b[1m1/1\u001b[0m \u001b[32m━━━━━━━━━━━━━━━━━━━━\u001b[0m\u001b[37m\u001b[0m \u001b[1m3s\u001b[0m 3s/step - accuracy: 0.9986 - loss: 1.1523e-07 - val_accuracy: 1.0000 - val_loss: 1.1921e-07\n",
            "Epoch 6/30\n",
            "\u001b[1m1/1\u001b[0m \u001b[32m━━━━━━━━━━━━━━━━━━━━\u001b[0m\u001b[37m\u001b[0m \u001b[1m3s\u001b[0m 3s/step - accuracy: 0.9986 - loss: 1.2268e-07 - val_accuracy: 1.0000 - val_loss: 1.1921e-07\n",
            "Epoch 7/30\n",
            "\u001b[1m1/1\u001b[0m \u001b[32m━━━━━━━━━━━━━━━━━━━━\u001b[0m\u001b[37m\u001b[0m \u001b[1m3s\u001b[0m 3s/step - accuracy: 0.9990 - loss: 1.1369e-07 - val_accuracy: 1.0000 - val_loss: 1.1921e-07\n",
            "Epoch 8/30\n",
            "\u001b[1m1/1\u001b[0m \u001b[32m━━━━━━━━━━━━━━━━━━━━\u001b[0m\u001b[37m\u001b[0m \u001b[1m2s\u001b[0m 2s/step - accuracy: 0.9984 - loss: 1.1461e-07 - val_accuracy: 1.0000 - val_loss: 1.1921e-07\n",
            "Epoch 9/30\n",
            "\u001b[1m1/1\u001b[0m \u001b[32m━━━━━━━━━━━━━━━━━━━━\u001b[0m\u001b[37m\u001b[0m \u001b[1m3s\u001b[0m 3s/step - accuracy: 0.9986 - loss: 1.1565e-07 - val_accuracy: 1.0000 - val_loss: 1.1921e-07\n",
            "Epoch 10/30\n",
            "\u001b[1m1/1\u001b[0m \u001b[32m━━━━━━━━━━━━━━━━━━━━\u001b[0m\u001b[37m\u001b[0m \u001b[1m4s\u001b[0m 4s/step - accuracy: 0.9980 - loss: 1.1349e-07 - val_accuracy: 1.0000 - val_loss: 1.1921e-07\n",
            "Epoch 11/30\n",
            "\u001b[1m1/1\u001b[0m \u001b[32m━━━━━━━━━━━━━━━━━━━━\u001b[0m\u001b[37m\u001b[0m \u001b[1m3s\u001b[0m 3s/step - accuracy: 0.9994 - loss: 1.1415e-07 - val_accuracy: 1.0000 - val_loss: 1.1921e-07\n",
            "Epoch 12/30\n",
            "\u001b[1m1/1\u001b[0m \u001b[32m━━━━━━━━━━━━━━━━━━━━\u001b[0m\u001b[37m\u001b[0m \u001b[1m2s\u001b[0m 2s/step - accuracy: 0.9996 - loss: 1.1349e-07 - val_accuracy: 1.0000 - val_loss: 1.1921e-07\n",
            "Epoch 13/30\n",
            "\u001b[1m1/1\u001b[0m \u001b[32m━━━━━━━━━━━━━━━━━━━━\u001b[0m\u001b[37m\u001b[0m \u001b[1m2s\u001b[0m 2s/step - accuracy: 0.9994 - loss: 1.1349e-07 - val_accuracy: 1.0000 - val_loss: 1.1921e-07\n",
            "Epoch 14/30\n",
            "\u001b[1m1/1\u001b[0m \u001b[32m━━━━━━━━━━━━━━━━━━━━\u001b[0m\u001b[37m\u001b[0m \u001b[1m2s\u001b[0m 2s/step - accuracy: 0.9992 - loss: 1.1349e-07 - val_accuracy: 1.0000 - val_loss: 1.1921e-07\n",
            "Epoch 15/30\n",
            "\u001b[1m1/1\u001b[0m \u001b[32m━━━━━━━━━━━━━━━━━━━━\u001b[0m\u001b[37m\u001b[0m \u001b[1m4s\u001b[0m 4s/step - accuracy: 0.9990 - loss: 1.1558e-07 - val_accuracy: 1.0000 - val_loss: 1.1921e-07\n",
            "Epoch 16/30\n",
            "\u001b[1m1/1\u001b[0m \u001b[32m━━━━━━━━━━━━━━━━━━━━\u001b[0m\u001b[37m\u001b[0m \u001b[1m2s\u001b[0m 2s/step - accuracy: 0.9986 - loss: 1.3785e-07 - val_accuracy: 1.0000 - val_loss: 1.1921e-07\n",
            "Epoch 17/30\n",
            "\u001b[1m1/1\u001b[0m \u001b[32m━━━━━━━━━━━━━━━━━━━━\u001b[0m\u001b[37m\u001b[0m \u001b[1m3s\u001b[0m 3s/step - accuracy: 0.9988 - loss: 1.1349e-07 - val_accuracy: 1.0000 - val_loss: 1.1921e-07\n",
            "Epoch 18/30\n",
            "\u001b[1m1/1\u001b[0m \u001b[32m━━━━━━━━━━━━━━━━━━━━\u001b[0m\u001b[37m\u001b[0m \u001b[1m2s\u001b[0m 2s/step - accuracy: 0.9988 - loss: 1.1349e-07 - val_accuracy: 1.0000 - val_loss: 1.1921e-07\n",
            "Epoch 19/30\n",
            "\u001b[1m1/1\u001b[0m \u001b[32m━━━━━━━━━━━━━━━━━━━━\u001b[0m\u001b[37m\u001b[0m \u001b[1m2s\u001b[0m 2s/step - accuracy: 0.9978 - loss: 1.1801e-07 - val_accuracy: 1.0000 - val_loss: 1.1921e-07\n",
            "Epoch 20/30\n",
            "\u001b[1m1/1\u001b[0m \u001b[32m━━━━━━━━━━━━━━━━━━━━\u001b[0m\u001b[37m\u001b[0m \u001b[1m3s\u001b[0m 3s/step - accuracy: 0.9994 - loss: 1.1887e-07 - val_accuracy: 1.0000 - val_loss: 1.1921e-07\n",
            "Epoch 21/30\n",
            "\u001b[1m1/1\u001b[0m \u001b[32m━━━━━━━━━━━━━━━━━━━━\u001b[0m\u001b[37m\u001b[0m \u001b[1m2s\u001b[0m 2s/step - accuracy: 0.9996 - loss: 1.1370e-07 - val_accuracy: 1.0000 - val_loss: 1.1921e-07\n",
            "Epoch 22/30\n",
            "\u001b[1m1/1\u001b[0m \u001b[32m━━━━━━━━━━━━━━━━━━━━\u001b[0m\u001b[37m\u001b[0m \u001b[1m3s\u001b[0m 3s/step - accuracy: 0.9990 - loss: 1.2193e-07 - val_accuracy: 1.0000 - val_loss: 1.1921e-07\n",
            "Epoch 23/30\n",
            "\u001b[1m1/1\u001b[0m \u001b[32m━━━━━━━━━━━━━━━━━━━━\u001b[0m\u001b[37m\u001b[0m \u001b[1m2s\u001b[0m 2s/step - accuracy: 0.9992 - loss: 1.2668e-07 - val_accuracy: 1.0000 - val_loss: 1.1921e-07\n",
            "Epoch 24/30\n",
            "\u001b[1m1/1\u001b[0m \u001b[32m━━━━━━━━━━━━━━━━━━━━\u001b[0m\u001b[37m\u001b[0m \u001b[1m3s\u001b[0m 3s/step - accuracy: 0.9994 - loss: 1.1349e-07 - val_accuracy: 1.0000 - val_loss: 1.1921e-07\n",
            "Epoch 25/30\n",
            "\u001b[1m1/1\u001b[0m \u001b[32m━━━━━━━━━━━━━━━━━━━━\u001b[0m\u001b[37m\u001b[0m \u001b[1m3s\u001b[0m 3s/step - accuracy: 0.9994 - loss: 1.1349e-07 - val_accuracy: 1.0000 - val_loss: 1.1921e-07\n",
            "Epoch 26/30\n",
            "\u001b[1m1/1\u001b[0m \u001b[32m━━━━━━━━━━━━━━━━━━━━\u001b[0m\u001b[37m\u001b[0m \u001b[1m2s\u001b[0m 2s/step - accuracy: 0.9992 - loss: 1.1367e-07 - val_accuracy: 1.0000 - val_loss: 1.1921e-07\n",
            "Epoch 27/30\n",
            "\u001b[1m1/1\u001b[0m \u001b[32m━━━━━━━━━━━━━━━━━━━━\u001b[0m\u001b[37m\u001b[0m \u001b[1m2s\u001b[0m 2s/step - accuracy: 0.9996 - loss: 1.1352e-07 - val_accuracy: 1.0000 - val_loss: 1.1921e-07\n",
            "Epoch 28/30\n",
            "\u001b[1m1/1\u001b[0m \u001b[32m━━━━━━━━━━━━━━━━━━━━\u001b[0m\u001b[37m\u001b[0m \u001b[1m2s\u001b[0m 2s/step - accuracy: 0.9992 - loss: 1.1349e-07 - val_accuracy: 1.0000 - val_loss: 1.1921e-07\n",
            "Epoch 29/30\n",
            "\u001b[1m1/1\u001b[0m \u001b[32m━━━━━━━━━━━━━━━━━━━━\u001b[0m\u001b[37m\u001b[0m \u001b[1m3s\u001b[0m 3s/step - accuracy: 0.9992 - loss: 1.1349e-07 - val_accuracy: 1.0000 - val_loss: 1.1921e-07\n",
            "Epoch 30/30\n",
            "\u001b[1m1/1\u001b[0m \u001b[32m━━━━━━━━━━━━━━━━━━━━\u001b[0m\u001b[37m\u001b[0m \u001b[1m5s\u001b[0m 5s/step - accuracy: 0.9994 - loss: 1.1408e-07 - val_accuracy: 1.0000 - val_loss: 1.1921e-07\n"
          ]
        },
        {
          "output_type": "execute_result",
          "data": {
            "text/plain": [
              "<keras.src.callbacks.history.History at 0x7b4c43d47ad0>"
            ]
          },
          "metadata": {},
          "execution_count": 19
        }
      ]
    },
    {
      "cell_type": "code",
      "source": [
        "import os\n",
        "import matplotlib.pyplot as plt\n",
        "import json\n",
        "import numpy as np\n",
        "\n",
        "# Ensure directories exist\n",
        "os.makedirs('outputs/figures', exist_ok=True)\n",
        "\n",
        "# 1️⃣ Save Loss & Accuracy curves if not already saved\n",
        "try:\n",
        "    with open('outputs/training_history.json', 'r') as f:\n",
        "        history = json.load(f)\n",
        "    hist = history\n",
        "\n",
        "    # Loss curve\n",
        "    plt.figure()\n",
        "    plt.plot(hist['loss'], label='train')\n",
        "    plt.plot(hist['val_loss'], label='val')\n",
        "    plt.xlabel('Epoch'); plt.ylabel('Loss'); plt.title('Loss over epochs'); plt.legend()\n",
        "    plt.tight_layout()\n",
        "    plt.savefig('outputs/figures/loss_curve.png')\n",
        "    plt.close()\n",
        "    print(\"Saved: outputs/figures/loss_curve.png\")\n",
        "\n",
        "    # Accuracy curve\n",
        "    plt.figure()\n",
        "    plt.plot(hist['accuracy'], label='train')\n",
        "    plt.plot(hist['val_accuracy'], label='val')\n",
        "    plt.xlabel('Epoch'); plt.ylabel('Accuracy'); plt.title('Accuracy over epochs'); plt.legend()\n",
        "    plt.tight_layout()\n",
        "    plt.savefig('outputs/figures/accuracy_curve.png')\n",
        "    plt.close()\n",
        "    print(\"Saved: outputs/figures/accuracy_curve.png\")\n",
        "\n",
        "except Exception as e:\n",
        "    print(\"Error saving loss/accuracy curves:\", e)\n",
        "\n",
        "# 2️⃣ Save Confusion Matrix (CB513)\n",
        "try:\n",
        "    from sklearn.metrics import confusion_matrix\n",
        "    # Make sure pred_labels and true_labels exist from your evaluation step\n",
        "    labels = np.unique(true_labels)\n",
        "    cm = confusion_matrix(true_labels, pred_labels, labels=labels)\n",
        "    class_names = ['L','B','E','G','I','H','S','T']\n",
        "\n",
        "    plt.figure(figsize=(6,5))\n",
        "    plt.imshow(cm, aspect='auto')\n",
        "    plt.title('Confusion Matrix (CB513)')\n",
        "    plt.xlabel('Predicted'); plt.ylabel('True')\n",
        "    plt.xticks(np.arange(len(class_names)), class_names)\n",
        "    plt.yticks(np.arange(len(class_names)), class_names)\n",
        "    plt.colorbar()\n",
        "    plt.tight_layout()\n",
        "    plt.savefig('outputs/figures/confusion_matrix.png')\n",
        "    plt.close()\n",
        "    print(\"Saved: outputs/figures/confusion_matrix.png\")\n",
        "\n",
        "except Exception as e:\n",
        "    print(\"Error saving confusion matrix:\", e)\n",
        "\n",
        "# 3️⃣ Save Model Diagram\n",
        "try:\n",
        "    import tensorflow as tf\n",
        "    tf.keras.utils.plot_model(model, show_shapes=True, to_file='outputs/figures/model.png')\n",
        "    print(\"Saved: outputs/figures/model.png\")\n",
        "except Exception as e:\n",
        "    print(\"Error saving model diagram:\", e)\n"
      ],
      "metadata": {
        "colab": {
          "base_uri": "https://localhost:8080/"
        },
        "id": "jn-0ThOMOTBB",
        "outputId": "ae45430a-aca5-4efc-b678-db6868473307"
      },
      "execution_count": 21,
      "outputs": [
        {
          "output_type": "stream",
          "name": "stdout",
          "text": [
            "Error saving loss/accuracy curves: [Errno 2] No such file or directory: 'outputs/training_history.json'\n",
            "Saved: outputs/figures/confusion_matrix.png\n",
            "Saved: outputs/figures/model.png\n"
          ]
        }
      ]
    }
  ]
}